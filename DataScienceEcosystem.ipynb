{
 "cells": [
  {
   "cell_type": "markdown",
   "metadata": {},
   "source": [
    "<center>\n",
    "    <img src=\"https://cf-courses-data.s3.us.cloud-object-storage.appdomain.cloud/IBMDeveloperSkillsNetwork-DS0105EN-SkillsNetwork/labs/Module2/images/SN_web_lightmode.png\" width=\"300\" alt=\"cognitiveclass.ai logo\">\n",
    "</center>\n"
   ]
  },
  {
   "cell_type": "markdown",
   "metadata": {},
   "source": [
    "# Data Science Tools and Ecosystem"
   ]
  },
  {
   "cell_type": "markdown",
   "metadata": {},
   "source": [
    "Data Science Tools and Ecosystem refer to the collection of software, hardware, and services that are used to perform data analysis, modeling, and visualization tasks. It includes a wide range of tools and technologies that enable data scientists to work efficiently with large and complex data sets"
   ]
  },
  {
   "cell_type": "markdown",
   "metadata": {},
   "source": [
    "## Some of the popular languages that Data Scientists use are:\n",
    "\n",
    "1. Python - Python is one of the most widely used programming languages in the field of Data Science. It has a large and active community, a rich set of libraries and frameworks for data analysis and visualization, and is easy to learn and use.\n",
    "\n",
    "2. R - R is another popular programming language that is widely used in Data Science. It is particularly well-suited for statistical analysis and has a large and active community that has developed a wide range of packages for data analysis, visualization, and machine learning.\n",
    "\n",
    "3. SQL - SQL (Structured Query Language) is a programming language that is widely used for managing and querying large databases. It is a key tool for Data Scientists, who often work with large data sets and need to extract, transform, and load data from various sources.\n",
    "\n",
    "4. Java - Java is a general-purpose programming language that is widely used in industry for developing large-scale applications. It is also used in Data Science for developing machine learning algorithms and data analysis tools."
   ]
  },
  {
   "cell_type": "markdown",
   "metadata": {},
   "source": [
    "## Some of the commonly used libraries used by Data Scientists include:\n",
    "\n",
    "1. NumPy - NumPy is a Python library used for scientific computing. It provides support for large, multi-dimensional arrays and matrices, as well as a large collection of high-level mathematical functions to operate on these arrays.\n",
    "\n",
    "2. Pandas - Pandas is a Python library used for data manipulation and analysis. It provides powerful tools for working with structured data, such as data frames and time series data.\n",
    "\n",
    "3. Matplotlib - Matplotlib is a Python library used for data visualization. It provides a wide range of tools for creating various types of plots, graphs, and charts.\n",
    "\n",
    "4. Scikit-learn - Scikit-learn is a Python library used for machine learning. It provides a range of tools for supervised and unsupervised learning, such as classification, regression, clustering, and dimensionality reduction.\n",
    "\n",
    "5. TensorFlow - TensorFlow is a machine learning library developed by Google.\n",
    "\n",
    "\n",
    "\n"
   ]
  },
  {
   "cell_type": "markdown",
   "metadata": {},
   "source": [
    "## Data Science Tools\n",
    "\n",
    "| Tool | Description |\n",
    "| --- | --- |\n",
    "| Jupyter Notebook | An interactive web-based environment for writing and running code in multiple programming languages |\n",
    "| JupyterLab | The next-generation web-based interface for Jupyter Notebook, which provides a more integrated and flexible user interface |\n",
    "| Python | A popular programming language for Data Science, with a large and active community and a wide range of libraries and tools for data analysis, machine learning, and visualization |\n",
    "| R | A programming language for statistical computing and graphics, with a rich collection of packages for data analysis, machine learning, and visualization |\n",
    "| NumPy | A Python library for scientific computing with support for large, multi-dimensional arrays and matrices, and a collection of high-level mathematical functions |\n",
    "| Pandas | A Python library for data manipulation and analysis, with powerful tools for working with structured data |\n"
   ]
  },
  {
   "cell_type": "markdown",
   "metadata": {},
   "source": [
    "### Below are a few examples of evaluating arithmetic expressions in Python"
   ]
  },
  {
   "cell_type": "code",
   "execution_count": 1,
   "metadata": {
    "tags": []
   },
   "outputs": [
    {
     "data": {
      "text/plain": [
       "17"
      ]
     },
     "execution_count": 1,
     "metadata": {},
     "output_type": "execute_result"
    }
   ],
   "source": [
    "(3*4)+5\n",
    "#This a simple arithmetic expression to mutiply then add integers"
   ]
  },
  {
   "cell_type": "code",
   "execution_count": 2,
   "metadata": {
    "tags": []
   },
   "outputs": [
    {
     "name": "stdout",
     "output_type": "stream",
     "text": [
      "This will convert 200 minutes to hours by diving by 60\n",
      "3.3333333333333335\n"
     ]
    }
   ],
   "source": [
    "# convert minutes to hours\n",
    "# Define a function that takes minutes as input and returns hours\n",
    "def convert_minutes_to_hours(minutes):\n",
    "    hours = minutes / 60\n",
    "    return hours\n",
    "\n",
    "# Test the function with an example value of 120 minutes\n",
    "print(\"This will convert 200 minutes to hours by diving by 60\")\n",
    "print(convert_minutes_to_hours(200)) "
   ]
  },
  {
   "cell_type": "markdown",
   "metadata": {
    "tags": []
   },
   "source": [
    "## Objectives:\n",
    "\n",
    "- List popular languages for Data Science\n",
    "- Identify commonly used libraries for Data Science\n",
    "- Understand the tools and ecosystem for Data Science\n",
    "- Convert minutes to hours using Python\n",
    "- Generate a random number using NumPy\n"
   ]
  },
  {
   "cell_type": "markdown",
   "metadata": {},
   "source": [
    "## Author\n",
    "Nikhil Dangi"
   ]
  },
  {
   "cell_type": "code",
   "execution_count": null,
   "metadata": {},
   "outputs": [],
   "source": []
  }
 ],
 "metadata": {
  "kernelspec": {
   "display_name": "Python",
   "language": "python",
   "name": "conda-env-python-py"
  },
  "language_info": {
   "codemirror_mode": {
    "name": "ipython",
    "version": 3
   },
   "file_extension": ".py",
   "mimetype": "text/x-python",
   "name": "python",
   "nbconvert_exporter": "python",
   "pygments_lexer": "ipython3",
   "version": "3.7.12"
  }
 },
 "nbformat": 4,
 "nbformat_minor": 4
}
